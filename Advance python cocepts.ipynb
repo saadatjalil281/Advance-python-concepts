{
 "cells": [
  {
   "cell_type": "markdown",
   "metadata": {},
   "source": [
    "# OPP Concepts\n",
    "Classes and Objects\n",
    "Inheritance, Polymorphism, Encapsulation"
   ]
  },
  {
   "cell_type": "code",
   "execution_count": 1,
   "metadata": {},
   "outputs": [
    {
     "name": "stdout",
     "output_type": "stream",
     "text": [
      "Buddy is barking\n",
      "Max is barking\n"
     ]
    }
   ],
   "source": [
    "# Classes and Objects \n",
    "\n",
    "# Defining a class\n",
    "class Dog: \n",
    "    def __init__(self, name, breed):\n",
    "        self.name = name\n",
    "        self.breed = breed\n",
    "\n",
    "    def bark(self):\n",
    "        print(f\"{self.name} is barking\")\n",
    "\n",
    "# Creating objects \n",
    "dog1 = Dog(\"Buddy\", \"Golden Retriever\")\n",
    "dog2 = Dog(\"Max\", \"German Shepherd\")\n",
    "\n",
    "# Using Objects \n",
    "dog1.bark() # Output: Buddy is barking\n",
    "dog2.bark() # Output: Max is barking"
   ]
  },
  {
   "cell_type": "code",
   "execution_count": 2,
   "metadata": {},
   "outputs": [
    {
     "name": "stdout",
     "output_type": "stream",
     "text": [
      "Whiskers says Meow!\n"
     ]
    }
   ],
   "source": [
    "# Inheritance\n",
    "\n",
    "# Parent class\n",
    "\n",
    "class Animal:\n",
    "    def __init__(self, name):\n",
    "        self.name = name \n",
    "    \n",
    "    def make_sound(self):\n",
    "        print(f\"{self.name} is making a sound\")\n",
    "\n",
    "# Child class inheriting form Animal\n",
    "\n",
    "class Cat(Animal):\n",
    "    def make_sound(self):\n",
    "        print(f\"{self.name} says Meow!\")\n",
    "\n",
    "\n",
    "# Creating an object of the child class\n",
    "cat = Cat(\"Whiskers\")\n",
    "cat.make_sound()"
   ]
  },
  {
   "cell_type": "code",
   "execution_count": 3,
   "metadata": {},
   "outputs": [
    {
     "name": "stdout",
     "output_type": "stream",
     "text": [
      "Woof!\n",
      "Meow!\n"
     ]
    }
   ],
   "source": [
    "#Polymorphism\n",
    "\n",
    "# parent class\n",
    "class Animal:\n",
    "    def make_sound(self):\n",
    "        pass\n",
    "\n",
    "\n",
    "# Child classes\n",
    "class Dog(Animal):\n",
    "    def make_sound(self):\n",
    "        print(\"Woof!\")\n",
    "\n",
    "class Cat(Animal):\n",
    "    def make_sound(self):\n",
    "        print(\"Meow!\")\n",
    "\n",
    "\n",
    "# Using Polymorphism\n",
    "animals = [Dog(), Cat()]\n",
    "for animal in animals:\n",
    "    animal.make_sound()\n",
    "    \n",
    "\n",
    "\n"
   ]
  },
  {
   "cell_type": "code",
   "execution_count": 5,
   "metadata": {},
   "outputs": [
    {
     "name": "stdout",
     "output_type": "stream",
     "text": [
      "1300\n"
     ]
    }
   ],
   "source": [
    "# Encapsulation\n",
    "class BankAccount:\n",
    "    def __init__(self, owner, balance):\n",
    "        self.owner = owner\n",
    "        self.__balance = balance  # Private attribute\n",
    "\n",
    "\n",
    "    def deposit(self, amount):\n",
    "        if amount > 0:\n",
    "            self.__balance += amount\n",
    "\n",
    "    def withdraw(self, amount):\n",
    "        if amount <= self.__balance:\n",
    "            self.__balance -= amount\n",
    "        else:\n",
    "            print(\"Insufficient funds\")\n",
    "\n",
    "    def get_balance(self):\n",
    "        return self.__balance\n",
    "\n",
    "# Creating an objects\n",
    "\n",
    "account = BankAccount(\"Alice\", 1000)\n",
    "\n",
    "# Accessing and modifying balance through methods\n",
    "account.deposit(500)\n",
    "account.withdraw(200)\n",
    "print(account.get_balance())\n",
    "\n",
    "\n",
    "# Direct access to __balance is not allowed (will raise an AttributeError)\n",
    "# print(account.__balance)"
   ]
  },
  {
   "cell_type": "markdown",
   "metadata": {},
   "source": [
    "# Vehicle Rental System"
   ]
  },
  {
   "cell_type": "code",
   "execution_count": 8,
   "metadata": {},
   "outputs": [
    {
     "name": "stdout",
     "output_type": "stream",
     "text": [
      "Car: Toyota Camry (2021) with 4 doors\n",
      "Rental Rate: $40/day\n",
      "Currently Rented: No\n",
      "\n",
      "Bike: Yamaha MT-07 (2020) type Sport\n",
      "Rental Rate: $25/day\n",
      "Currently Rented: No\n",
      "\n",
      "Car: Toyota Camry (2021) with 4 doors\n",
      "Rental Rate: $40/day\n",
      "Currently Rented: Yes\n",
      "\n",
      "Bike: Yamaha MT-07 (2020) type Sport\n",
      "Rental Rate: $25/day\n",
      "Currently Rented: Yes\n",
      "\n",
      "Car: Toyota Camry (2021) with 4 doors\n",
      "Rental Rate: $40/day\n",
      "Currently Rented: No\n",
      "\n",
      "Bike: Yamaha MT-07 (2020) type Sport\n",
      "Rental Rate: $25/day\n",
      "Currently Rented: No\n",
      "\n"
     ]
    }
   ],
   "source": [
    "# Encapsulation and Classes/Objects: Defining the base Vehicle class with encapsulated attributes and methods\n",
    "class Vehicle:\n",
    "    def __init__(self, brand, model, year, rental_rate):\n",
    "        self._brand = brand          # Encapsulation: Using protected attribute\n",
    "        self._model = model          # Encapsulation: Using protected attribute\n",
    "        self._year = year            # Encapsulation: Using protected attribute\n",
    "        self._rental_rate = rental_rate  # Encapsulation: Using protected attribute\n",
    "        self._is_rented = False      # Encapsulation: Using protected attribute\n",
    "\n",
    "    def rent_vehicle(self):\n",
    "        if not self._is_rented:\n",
    "            self._is_rented = True\n",
    "            return True\n",
    "        return False\n",
    "\n",
    "    def return_vehicle(self):\n",
    "        if self._is_rented:\n",
    "            self._is_rented = False\n",
    "            return True\n",
    "        return False\n",
    "\n",
    "    def get_info(self):\n",
    "        return f\"{self._brand} {self._model} ({self._year})\"\n",
    "\n",
    "    def get_rental_rate(self):\n",
    "        return self._rental_rate\n",
    "\n",
    "\n",
    "# Inheritance: Defining subclasses Car and Bike that inherit from Vehicle\n",
    "class Car(Vehicle):\n",
    "    def __init__(self, brand, model, year, rental_rate, num_doors):\n",
    "        super().__init__(brand, model, year, rental_rate)\n",
    "        self._num_doors = num_doors  # Encapsulation: Using protected attribute\n",
    "\n",
    "    def get_info(self):\n",
    "        return f\"Car: {super().get_info()} with {self._num_doors} doors\"\n",
    "\n",
    "\n",
    "class Bike(Vehicle):\n",
    "    def __init__(self, brand, model, year, rental_rate, type_of_bike):\n",
    "        super().__init__(brand, model, year, rental_rate)\n",
    "        self._type_of_bike = type_of_bike  # Encapsulation: Using protected attribute\n",
    "\n",
    "    def get_info(self):\n",
    "        return f\"Bike: {super().get_info()} type {self._type_of_bike}\"\n",
    "\n",
    "\n",
    "# Polymorphism: Defining a function that can handle different types of vehicles\n",
    "def display_vehicle_info(vehicle):\n",
    "    print(vehicle.get_info())\n",
    "    print(f\"Rental Rate: ${vehicle.get_rental_rate()}/day\")\n",
    "    print(f\"Currently Rented: {'Yes' if vehicle._is_rented else 'No'}\\n\")\n",
    "\n",
    "\n",
    "# Example usage\n",
    "car1 = Car(\"Toyota\", \"Camry\", 2021, 40, 4)\n",
    "bike1 = Bike(\"Yamaha\", \"MT-07\", 2020, 25, \"Sport\")\n",
    "\n",
    "# Display information for both vehicles (demonstrating polymorphism)\n",
    "display_vehicle_info(car1)\n",
    "display_vehicle_info(bike1)\n",
    "\n",
    "# Rent and return vehicles\n",
    "car1.rent_vehicle()\n",
    "bike1.rent_vehicle()\n",
    "\n",
    "# Display information again to see the updated status\n",
    "display_vehicle_info(car1)\n",
    "display_vehicle_info(bike1)\n",
    "\n",
    "car1.return_vehicle()\n",
    "bike1.return_vehicle()\n",
    "\n",
    "# Display information again to see the updated status\n",
    "display_vehicle_info(car1)\n",
    "display_vehicle_info(bike1)\n"
   ]
  },
  {
   "cell_type": "code",
   "execution_count": null,
   "metadata": {},
   "outputs": [],
   "source": []
  }
 ],
 "metadata": {
  "kernelspec": {
   "display_name": "Python 3",
   "language": "python",
   "name": "python3"
  },
  "language_info": {
   "codemirror_mode": {
    "name": "ipython",
    "version": 3
   },
   "file_extension": ".py",
   "mimetype": "text/x-python",
   "name": "python",
   "nbconvert_exporter": "python",
   "pygments_lexer": "ipython3",
   "version": "3.8.8"
  }
 },
 "nbformat": 4,
 "nbformat_minor": 2
}
