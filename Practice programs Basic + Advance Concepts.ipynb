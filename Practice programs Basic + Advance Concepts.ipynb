{
 "cells": [
  {
   "cell_type": "markdown",
   "metadata": {},
   "source": [
    "# Variables and Data types\n",
    "# Strings and Conditional Statements"
   ]
  },
  {
   "cell_type": "code",
   "execution_count": null,
   "metadata": {},
   "outputs": [],
   "source": [
    "# Write a program ot ask the user to enter names of their 3 movies and store them into a list.\n",
    "movies = []\n",
    "\n",
    "mov1 = input(\"Enter 1st movie: \")\n",
    "movies.append(mov1)\n",
    "mov2 = input(\"Enter 2nd movie: \")\n",
    "movies.append(mov2)\n",
    "mov3 = input(\"Enter 3rd movie: \")\n",
    "movies.append(mov3)\n",
    "\n",
    "\n",
    "\n",
    "\n",
    "print(movies)\n",
    "\n",
    "\n",
    "\n",
    "\n",
    "\n",
    "\n"
   ]
  },
  {
   "cell_type": "code",
   "execution_count": null,
   "metadata": {},
   "outputs": [],
   "source": [
    "#WAP to  check if the list conatian a palindrom of elemtents.(Hint: use copy() method)\n",
    "\n",
    "list1 = [1, 2, 1]\n",
    "list2 = [1, 2, 3]\n",
    "\n",
    "copy_list2 = list1.copy()\n",
    "copy_list2.reverse()\n",
    "\n",
    "if(copy_list2 == list2):\n",
    "    print(\"Palindorme\")\n",
    "\n",
    "else:\n",
    "    print(\"Not plaindorme\")"
   ]
  },
  {
   "cell_type": "code",
   "execution_count": null,
   "metadata": {},
   "outputs": [],
   "source": [
    "# WAP to count the number of students with the \"A\" grade in the following tuple.count\n",
    "# \n",
    "\n",
    "grade = (\"C\", \"D\", \"A\", \"A\", \"B\", \"B\", \"A\")\n",
    "print(grade.count(\"D\"))\n"
   ]
  },
  {
   "cell_type": "code",
   "execution_count": null,
   "metadata": {},
   "outputs": [],
   "source": [
    "# Store the above values in a list & sort them form \"A\" to \"D\".\n",
    "\n",
    "grade =[\"C\", \"D\", \"A\", \"A\", \"B\", \"B\", \"A\"]\n",
    "grade.sort()\n",
    "print(grade)\n"
   ]
  },
  {
   "cell_type": "code",
   "execution_count": null,
   "metadata": {},
   "outputs": [],
   "source": [
    "# Store the following word meanings in a python dictionary:\n",
    "\n",
    "dictioary = {\n",
    "    \"cat\" : \"a small animal\",\n",
    "    \"table\" : (\"a piece of furniture \", \"List of facts and figures\")\n",
    "}\n",
    "print(dictioary)"
   ]
  },
  {
   "cell_type": "code",
   "execution_count": null,
   "metadata": {},
   "outputs": [],
   "source": [
    "# You are given alist of subjects for students. Assume one classroom is requried for 1 subject. How many classromms are needed by all students.\n",
    "\n",
    "class_room = {\"python\", \"java\", \"C++\", \"python\", \"javascript\", \"java\", \"python\", \"java\", \"C++\", \"C\"}\n",
    "print(len(class_room))"
   ]
  },
  {
   "cell_type": "code",
   "execution_count": null,
   "metadata": {},
   "outputs": [],
   "source": [
    "# WAP to enter marks of 3 subjects form the useer and store them in a dictionary. Start with an empty dictionary&add one by one. use subjects name as key and marks as value.\n",
    "\n",
    "marks = {}\n",
    "\n",
    "chem = int(input(\"Enter the marks of chem subject: \"))\n",
    "marks.update({\"chem\" : chem})\n",
    "phy= int(input(\"Enter the marks of phy subject: \"))\n",
    "marks.update({\"phy\" : phy})\n",
    "bio = int(input(\"Enter the marks of bio subject: \"))\n",
    "marks.update({\"bio\" : bio})\n",
    "\n",
    "print(marks)\n",
    "\n",
    "\n"
   ]
  },
  {
   "cell_type": "code",
   "execution_count": null,
   "metadata": {},
   "outputs": [],
   "source": [
    "# Figure out a way to store 9 and 9.0 as seprate values in the set. (You can take help of built -in data types)\n",
    "\n",
    "\n",
    "values = { (\"float\", 9.0), (\"int\", 9)\n",
    "          }\n",
    "print(values)"
   ]
  },
  {
   "cell_type": "code",
   "execution_count": null,
   "metadata": {},
   "outputs": [],
   "source": [
    "# write a program that prints number from 1 to 100\n",
    "i = 1 \n",
    "while i<=100:\n",
    "    print(i)\n",
    "    i = i+1\n",
    "\n",
    "\n",
    "# Write a program to print number form 100 to 1\n",
    "\n",
    "i = 100 \n",
    "while i>=1:\n",
    "    print(i)\n",
    "    i = i-1"
   ]
  },
  {
   "cell_type": "code",
   "execution_count": null,
   "metadata": {},
   "outputs": [],
   "source": [
    "# print the multipllicaiton table of a number \n",
    "\n",
    "n = int(input(\"Enter a number : \"))\n",
    "\n",
    "\n",
    "i = 1 \n",
    "while i<=10:\n",
    "    print(n*i)\n",
    "    i = i + 1\n"
   ]
  },
  {
   "cell_type": "code",
   "execution_count": null,
   "metadata": {},
   "outputs": [],
   "source": [
    "# print the elemetns of the following list using a loop:\n",
    "\n",
    "nums = [1, 4, 9, 16, 25, 36, 49, 64, 81, 100]\n",
    "\n",
    "idx = 0\n",
    "while idx < len(nums):\n",
    "    print(nums[idx])\n",
    "    idx +=1"
   ]
  },
  {
   "cell_type": "code",
   "execution_count": null,
   "metadata": {},
   "outputs": [],
   "source": [
    "# Search for a number x in this tuple using loop:\n",
    "\n",
    "nums = (1, 4, 9, 16, 25, 36, 49, 64, 81, 100)\n",
    "\n",
    "x = 36\n",
    "\n",
    "i = 0\n",
    "while i < len(nums):\n",
    "    if(nums[i] == x):\n",
    "        print(\"Found at index: \", i)\n",
    "    else:\n",
    "        print(\"finding....\")\n",
    "    i += 1\n",
    "\n",
    "    \n",
    "\n",
    "\n"
   ]
  },
  {
   "cell_type": "code",
   "execution_count": null,
   "metadata": {},
   "outputs": [],
   "source": [
    "i = 1 \n",
    "while i <=5: \n",
    "    print(i)\n",
    "    if (i == 3):\n",
    "        break\n",
    "    i += 1"
   ]
  },
  {
   "cell_type": "code",
   "execution_count": null,
   "metadata": {},
   "outputs": [],
   "source": [
    "i = 1 \n",
    "while i <= 5: \n",
    "    if (i ==3):\n",
    "        i +=1\n",
    "        continue # skip \n",
    "    print(i)\n",
    "    i += 1\n"
   ]
  },
  {
   "cell_type": "code",
   "execution_count": null,
   "metadata": {},
   "outputs": [],
   "source": [
    " # using for loop print the element of the following list .\n",
    "# print number form 1 to 100\n",
    "\n",
    "for i in range(0, 100):\n",
    "    print(i)\n",
    "    \n"
   ]
  },
  {
   "cell_type": "code",
   "execution_count": null,
   "metadata": {},
   "outputs": [],
   "source": [
    "for i in range (100, 1, -1):\n",
    "    print(i)\n",
    "    "
   ]
  },
  {
   "cell_type": "code",
   "execution_count": null,
   "metadata": {},
   "outputs": [],
   "source": [
    "n = int(input(\"Enter a number :\"))\n",
    "\n",
    "for i in range(1, 11):\n",
    "    print(n * i)"
   ]
  },
  {
   "cell_type": "code",
   "execution_count": null,
   "metadata": {},
   "outputs": [],
   "source": [
    "for i in range(5):\n",
    "    pass\n",
    "if i > 5:\n",
    "    pass\n",
    "\n",
    "print(\"some useful work\")"
   ]
  },
  {
   "cell_type": "code",
   "execution_count": null,
   "metadata": {},
   "outputs": [],
   "source": [
    "# write a program to find the sum of first n numbers.(using while)\n",
    "n = int(input(\"Enter a number: \"))\n",
    "\n",
    "sum = 0 \n",
    "i = 1\n",
    "while i<= n:\n",
    "    sum += i\n",
    "    i +=1\n",
    "print(\"total sum is equal to : \", sum)\n"
   ]
  },
  {
   "cell_type": "code",
   "execution_count": null,
   "metadata": {},
   "outputs": [],
   "source": [
    "# WAP to find the factorial of the first n mumbers.(using for)\n",
    "\n",
    "#n = int(input(\"Enter a number: \"))\n",
    "n = 3\n",
    "fact = 1 \n",
    "i = 1\n",
    "for i in range (1, n+1):\n",
    "    fact *=i\n",
    "\n",
    "print(\"factorial = \", fact)"
   ]
  },
  {
   "cell_type": "code",
   "execution_count": null,
   "metadata": {},
   "outputs": [],
   "source": [
    "# Write a function to print the length of a list (list is the pararmeter)\n",
    "\n",
    "\n",
    "cities = [\"islamabad\", \"dehli\", \"gorgaon\", \"pune\", \"Karachi\", \"lahore\"]\n",
    "heroes = [\"Umer Farooq\", \"Abu Bakr Sadiqe\", \"Usman\", \"Ali\"]\n",
    "def print_len(list):\n",
    "    print(len(list))\n",
    "\n",
    "print_len(cities)\n",
    "print_len(heroes)\n"
   ]
  },
  {
   "cell_type": "code",
   "execution_count": null,
   "metadata": {},
   "outputs": [],
   "source": [
    "# funciton to print the elements in a single line\n",
    "\n",
    "cities = [\"islamabad\", \"dehli\", \"gorgaon\", \"pune\", \"Karachi\", \"lahore\"]\n",
    "heroes = [\"Umer Farooq\", \"Abu Bakr Sadiqe\", \"Usman\", \"Ali\"]\n",
    "def print_list(list):\n",
    "    for item in list:\n",
    "        print(item, end=\" \")\n",
    "\n",
    "print_list(cities)\n",
    "print_list(heroes)\n",
    "\n"
   ]
  },
  {
   "cell_type": "code",
   "execution_count": null,
   "metadata": {},
   "outputs": [],
   "source": [
    "# Function to find the factorial of n. (n is the parameter)\n",
    "\n",
    "\n",
    "def cal_fact(n):\n",
    "    fact = 1\n",
    "    for i in range(1, n+1):\n",
    "        fact *= i\n",
    "    print(fact)\n",
    "\n",
    "\n",
    "cal_fact(6)\n"
   ]
  },
  {
   "cell_type": "code",
   "execution_count": null,
   "metadata": {},
   "outputs": [],
   "source": [
    "# Funciton to convet USD into PKR\n",
    "def converter(usd_val):\n",
    "    pkr_val = usd_val * 280\n",
    "    print(usd_val, \"USD = \", pkr_val,\"PKR\")\n",
    "\n",
    "converter(500)\n"
   ]
  },
  {
   "cell_type": "code",
   "execution_count": null,
   "metadata": {},
   "outputs": [],
   "source": [
    "def converter(usd_val):\n",
    "    pkr_val = usd_val * 280\n",
    "    print(usd_val, \"USD =\", pkr_val, \"PKR\")\n",
    "\n",
    "converter(20)\n"
   ]
  },
  {
   "cell_type": "code",
   "execution_count": null,
   "metadata": {},
   "outputs": [],
   "source": [
    "def check_even_or_odd():\n",
    "    \n",
    "    user_input = int(input(\"Enter a number: \"))\n",
    "\n",
    "    if user_input % 2 == 0: \n",
    "        print(f\"The number{user_input} is even.\")\n",
    "    else:\n",
    "        print(f\"The number{user_input} is odd. \")\n",
    "\n",
    "\n",
    "# call the function\n",
    "check_even_or_odd()\n",
    "\n",
    "        \n"
   ]
  },
  {
   "cell_type": "code",
   "execution_count": null,
   "metadata": {},
   "outputs": [],
   "source": [
    "# Write a recursive function to calculate the sum of first n natural number\n",
    "\n",
    "def calc_sum(n):\n",
    "    if(n == 0):\n",
    "        return 0\n",
    "    return calc_sum(n-1) + n\n",
    "\n",
    "calc_sum(5)"
   ]
  },
  {
   "cell_type": "code",
   "execution_count": null,
   "metadata": {},
   "outputs": [],
   "source": [
    "# Write a recursive function to print all elements in a list. Hint: use list and index as parameters.\n",
    "\n",
    "def print_list(list, idx = 0):\n",
    "    if (idx == len(list)):\n",
    "      return \n",
    "      print(list[idx])\n",
    "      print_list(list, idx+1)\n",
    "\n",
    "fruits = [\"Mango\", \"banan\", \"apple\", \"organe\"]\n",
    "print_list(fruits)\n",
    "\n",
    "print(fruits)"
   ]
  },
  {
   "cell_type": "markdown",
   "metadata": {},
   "source": [
    "# File input/output\n"
   ]
  },
  {
   "cell_type": "code",
   "execution_count": null,
   "metadata": {},
   "outputs": [],
   "source": [
    "# Create a new file \"practice .txt using python add data in it\"\n",
    "with open(\"Practice.txt\", \"r\") as f:\n",
    "     data = f.read()\n",
    "     print(data)\n",
    "\n",
    "\n",
    "with open(\"practice.txt\", \"w\") as f:\n",
    "     f.write(\"new data\")"
   ]
  },
  {
   "cell_type": "code",
   "execution_count": null,
   "metadata": {},
   "outputs": [],
   "source": [
    "import os\n",
    "\n",
    "os.remove(\"Practice.txt\")"
   ]
  },
  {
   "cell_type": "code",
   "execution_count": null,
   "metadata": {},
   "outputs": [],
   "source": [
    "# Create a new file \"practice .txt\" using python. Add the following data in it.\n",
    "with open(\"practice.txt\", \"w\") as f:\n",
    "    f.write(\"Hi everyone\\nwe are learining File I/O\\n\")\n",
    "    f.write(\"using java.\\nI like programing in java.\")\n"
   ]
  },
  {
   "cell_type": "code",
   "execution_count": null,
   "metadata": {},
   "outputs": [],
   "source": [
    "# Write a program that replace all occurrences of \"java\" with \"python\" in above file.\n",
    "\n",
    "with open(\"practice.txt\", \"r\") as f:\n",
    "   data = f.read()\n",
    "\n",
    "new_data = data.replace(\"java\", \"python\")\n",
    "print(new_data)\n",
    "\n",
    "with open(\"practice.txt\", \"w\") as f:\n",
    "   f.write(new_data)"
   ]
  },
  {
   "cell_type": "code",
   "execution_count": null,
   "metadata": {},
   "outputs": [],
   "source": [
    "# Search if the word \"learning\" exist in the file or not\n",
    "\n",
    "word = \"learining\"\n",
    "with open(\"practice.txt\", \"r\") as f:\n",
    "    data = f.read()\n",
    "    if(data.find(word) != -1):\n",
    "        print(\"Found\")\n",
    "    else:\n",
    "      print(\"Not found\")"
   ]
  },
  {
   "cell_type": "code",
   "execution_count": null,
   "metadata": {},
   "outputs": [],
   "source": [
    "# Write a funciton to Search if the word \"learning\" exist in the file or not\n",
    "def check_for_word():\n",
    "    word = \"learining\"\n",
    "with open(\"practice.txt\", \"r\") as f:\n",
    "    data = f.read()\n",
    "    if(data.find(word) != -1):\n",
    "        print(\"Found\")\n",
    "    else:\n",
    "      print(\"Not found\")\n",
    "\n",
    "\n",
    "check_for_word()"
   ]
  },
  {
   "cell_type": "code",
   "execution_count": null,
   "metadata": {},
   "outputs": [],
   "source": [
    "# WAF to find in which line of the file does the word \"learning\" occur first.\n",
    "# Print -1 if word not found\n",
    "def check_for_word():\n",
    "    word = \"learining\"\n",
    "with open(\"practice.txt\", \"r\") as f:\n",
    "    data = f.read()\n",
    "    if(word in data):\n",
    "        print(\"Found\")\n",
    "    else:\n",
    "      print(\"Not found\")\n",
    "\n",
    "\n",
    "check_for_word()\n",
    "\n",
    "\n",
    "def check_for_line():\n",
    "    word = \"python\"\n",
    "    data = True\n",
    "    line_no = 1\n",
    "    with open(\"practice.txt\", \"r\") as f:\n",
    "        while data:\n",
    "            data = f.readline()\n",
    "            if(word in data):\n",
    "                print(line_no)\n",
    "                return \n",
    "            line_no +=  1\n",
    "\n",
    "    return -1\n",
    "check_for_line()\n"
   ]
  },
  {
   "cell_type": "markdown",
   "metadata": {},
   "source": [
    "# OOP(Object Oriented Programing)\n",
    "Classes and Objects"
   ]
  },
  {
   "cell_type": "code",
   "execution_count": 6,
   "metadata": {},
   "outputs": [
    {
     "name": "stdout",
     "output_type": "stream",
     "text": [
      "hi Usama Your avg score is: 98.0\n",
      "hi ironman Your avg score is: 98.0\n",
      "hello\n"
     ]
    }
   ],
   "source": [
    "# Let's create a student class that takes name & marks of 3 subjects as argumetns in construtor. then create a method to print the avgerage.\n",
    "\n",
    "class Student:\n",
    "    def __init__(self, name, marks):\n",
    "        self.name = name\n",
    "        self.marks = marks\n",
    "    \n",
    "    @staticmethod\n",
    "    def hello():\n",
    "        print(\"hello\")\n",
    "\n",
    "    def get_avg(self):\n",
    "        sum = 0 \n",
    "        for val in self.marks:\n",
    "            sum += val \n",
    "        print(\"hi\", self.name,\"Your avg score is:\", sum/3)\n",
    "        \n",
    "s1 = Student(\"Usama\", [99, 98, 97])\n",
    " \n",
    "s1.get_avg()\n",
    "\n",
    "s1.name = \"ironman\"\n",
    "s1.get_avg()\n",
    "s1.hello()\n",
    "\n"
   ]
  },
  {
   "cell_type": "markdown",
   "metadata": {},
   "source": [
    "# Abstraction and Encapsulation"
   ]
  },
  {
   "cell_type": "code",
   "execution_count": 8,
   "metadata": {},
   "outputs": [
    {
     "name": "stdout",
     "output_type": "stream",
     "text": [
      "car started...\n"
     ]
    }
   ],
   "source": [
    "# Abstraction \n",
    "class Car:\n",
    "    def __init__(self):\n",
    "        self.acc = False\n",
    "        self.brk = False\n",
    "        self. clutch = False\n",
    "\n",
    "\n",
    "    def start(self):\n",
    "        self.clutch = True\n",
    "        self.acc = True \n",
    "        print(\"car started...\")\n",
    "\n",
    "car1 = Car()\n",
    "car1.start()"
   ]
  },
  {
   "cell_type": "code",
   "execution_count": 17,
   "metadata": {},
   "outputs": [
    {
     "name": "stdout",
     "output_type": "stream",
     "text": [
      "Rs. 3000 was debited\n",
      "Total balance =  7000\n",
      "Rs. 500 was credited\n",
      "Total balance =  7500\n",
      "Rs. 5000 was credited\n",
      "Total balance =  12500\n"
     ]
    }
   ],
   "source": [
    "# Create Account class with 2 attributes - balance & account no. \n",
    "# Create methods for debit, credit & printing the balance. \n",
    "\n",
    "class Account:\n",
    "    def __init__ (self, bal, acc):\n",
    "        self.balance = bal \n",
    "        self.account_no = acc\n",
    "\n",
    "\n",
    "    def debit(self, amount):\n",
    "        self.balance -= amount\n",
    "        print(\"Rs.\", amount, \"was debited\")\n",
    "        print(\"Total balance = \", self.get_balance())\n",
    "    \n",
    "    def credit (self, amount):\n",
    "        self.balance += amount\n",
    "        print(\"Rs.\", amount, \"was credited\")\n",
    "        print(\"Total balance = \", self.get_balance())\n",
    "    \n",
    "    def get_balance(self):\n",
    "         return self.balance\n",
    "\n",
    "acc1 = Account(10000, 1234)\n",
    "acc1. debit(3000)\n",
    "acc1.credit(500)\n",
    "\n",
    "acc1.credit(5000)\n",
    "\n",
    "\n"
   ]
  },
  {
   "cell_type": "markdown",
   "metadata": {},
   "source": [
    "# Inheritance"
   ]
  },
  {
   "cell_type": "code",
   "execution_count": 28,
   "metadata": {},
   "outputs": [
    {
     "name": "stdout",
     "output_type": "stream",
     "text": [
      "123456\n",
      "abcde\n",
      "None\n"
     ]
    }
   ],
   "source": [
    "\n",
    "\n",
    "# Pirvate(password attribute)\n",
    "\n",
    "class Account:\n",
    "    def __init__ (self, acc_no, acc_pass):\n",
    "        self.acc_no = acc_no\n",
    "        self.acc_pass = acc_pass\n",
    "\n",
    "acc1 = Account(\"123456\", \"abcde\")\n",
    "\n",
    "print(acc1.acc_no)\n",
    "print(acc1.__acc_pass)\n",
    "# with in class \n",
    "\n",
    "\n",
    "class Account:\n",
    "    def __init__ (self, acc_no, acc_pass):\n",
    "        self.acc_no = acc_no\n",
    "        self.__acc_pass = acc_pass\n",
    "\n",
    "    def reset_pass(self):\n",
    "        print(self.__acc_pass)\n",
    "\n",
    "\n",
    "acc1 = Account(\"123456\", \"abcde\")\n",
    "\n",
    "print(acc1.acc_no)\n",
    "print(acc1.reset_pass())\n",
    "\n",
    "\n",
    "\n",
    "\n",
    " \n"
   ]
  },
  {
   "cell_type": "code",
   "execution_count": 31,
   "metadata": {},
   "outputs": [
    {
     "name": "stdout",
     "output_type": "stream",
     "text": [
      "black\n"
     ]
    }
   ],
   "source": [
    "# inheritance\n",
    "#single inheritance\n",
    "\n",
    "class Car:\n",
    "    color = \"black\"\n",
    "    @staticmethod\n",
    "    def start():\n",
    "        print(\"car started...\")\n",
    "\n",
    "    @staticmethod\n",
    "    def stop():\n",
    "        print(\"Car stopped.\")\n",
    "\n",
    "    \n",
    "class ToyotaCar(Car):\n",
    "    def __init__(self, name):\n",
    "        self.name = name\n",
    "\n",
    "car1 = ToyotaCar(\"fortuner\")\n",
    "car2 = ToyotaCar(\"Prius\")\n",
    "\n",
    "print(car1.color)"
   ]
  },
  {
   "cell_type": "code",
   "execution_count": 32,
   "metadata": {},
   "outputs": [
    {
     "name": "stdout",
     "output_type": "stream",
     "text": [
      "car started...\n"
     ]
    }
   ],
   "source": [
    "# multi_level inheritance\n",
    " \n",
    "class Car:\n",
    "    @staticmethod\n",
    "    def start():\n",
    "        print(\"car started...\")\n",
    "\n",
    "    @staticmethod\n",
    "    def stop():\n",
    "        print(\"Car stopped.\")\n",
    "\n",
    "    \n",
    "class ToyotaCar(Car):\n",
    "    def __init__(self, brand):\n",
    "        self.brand = brand\n",
    "\n",
    "\n",
    "class Fortuner(ToyotaCar):\n",
    "    def __init__(self, type):\n",
    "        self.type = type \n",
    "\n",
    "\n",
    "car1 = Fortuner(\"disel\")\n",
    "car1.start()"
   ]
  },
  {
   "cell_type": "code",
   "execution_count": 33,
   "metadata": {},
   "outputs": [
    {
     "name": "stdout",
     "output_type": "stream",
     "text": [
      "welcome to class C\n",
      "welcome to class A\n",
      "welcome to class B\n"
     ]
    }
   ],
   "source": [
    "# Multiple inheritance\n",
    "\n",
    "class A:\n",
    "    varA = \"welcome to class A\"\n",
    "class B: \n",
    "    varB = \"welcome to class B\"\n",
    "\n",
    "class C(A, B):\n",
    "    varC = \"welcome to class C\"\n",
    "\n",
    "c1 = C()\n",
    "\n",
    "print(c1.varC)\n",
    "print(c1.varA)\n",
    "print(c1.varB)\n",
    "\n"
   ]
  },
  {
   "cell_type": "code",
   "execution_count": 36,
   "metadata": {},
   "outputs": [
    {
     "name": "stdout",
     "output_type": "stream",
     "text": [
      "car started...\n",
      "electric\n"
     ]
    }
   ],
   "source": [
    "# Super method(is used to access methods of the parent class)\n",
    " \n",
    "\n",
    "\n",
    "class Car:\n",
    "    def __init__(self, type):\n",
    "        self.type = type\n",
    "\n",
    "    @staticmethod\n",
    "    def start():\n",
    "        print(\"car started...\")\n",
    "\n",
    "    @staticmethod\n",
    "    def stop():\n",
    "        print(\"Car stopped.\")\n",
    "\n",
    "    \n",
    "class ToyotaCar(Car):\n",
    "    def __init__(self, name, type):\n",
    "        super().__init__(type)\n",
    "        super().start()\n",
    "        self.name = name\n",
    "\n",
    "\n",
    "car1 = ToyotaCar(\"prius\", \"electric\")\n",
    "print(car1.type)\n"
   ]
  },
  {
   "cell_type": "markdown",
   "metadata": {},
   "source": [
    "# polymorphism "
   ]
  },
  {
   "cell_type": "code",
   "execution_count": 45,
   "metadata": {},
   "outputs": [
    {
     "name": "stdout",
     "output_type": "stream",
     "text": [
      "1 i + 3 j\n",
      "2 i + 4 j\n",
      "-1 i + -1 j\n"
     ]
    }
   ],
   "source": [
    "#Operators and Dunder Function\n",
    "class Complex:\n",
    "    def __init__(self, real, img):\n",
    "        self.real = real\n",
    "        self.img = img\n",
    "\n",
    "\n",
    "    def showNumber(self):\n",
    "        print(self.real,\"i +\", self.img,\"j\")\n",
    "# Dunder Function\n",
    "    def __add__(self, num2):\n",
    "        newReal = self.real + num2.real\n",
    "        newImg = self.img + num2.img\n",
    "        return Complex(newReal, newImg)\n",
    "\n",
    "\n",
    "    def __sub__(self, num2):\n",
    "        newReal = self.real - num2.real\n",
    "        newImg = self.img - num2.img\n",
    "        return Complex(newReal, newImg)\n",
    "\n",
    "num1 = Complex(1, 3)\n",
    "num1.showNumber()\n",
    "\n",
    "num2 = Complex(2, 4)\n",
    "num2.showNumber()\n",
    "\n",
    "num3 = num1 - num2 \n",
    "num3.showNumber()\n",
    "\n",
    "\n"
   ]
  },
  {
   "cell_type": "code",
   "execution_count": 49,
   "metadata": {},
   "outputs": [
    {
     "name": "stdout",
     "output_type": "stream",
     "text": [
      "1386.0\n",
      "132.0\n"
     ]
    }
   ],
   "source": [
    "# Practice Program # 01\n",
    "# Define a Circle class to create a circle with radius r using the constructor.\n",
    "# Define an Area() method of the class which claculates the area of the circle.\n",
    "# Define a perimeter() method of the class which allows you to calculate the perimeter of the circle.\n",
    "\n",
    "\n",
    "class Circle: \n",
    "    def __init__(self, radius):\n",
    "        self.radius = radius\n",
    "\n",
    "    def area(self):\n",
    "        return (22/7) * self.radius ** 2\n",
    "    \n",
    "\n",
    "    def perimeter(self):\n",
    "        return 2 * (22/7) * self.radius\n",
    "    \n",
    "\n",
    "\n",
    "c1 = Circle(21)\n",
    "print(c1.area())\n",
    "print(c1.perimeter())\n",
    "\n",
    "\n"
   ]
  },
  {
   "cell_type": "code",
   "execution_count": 51,
   "metadata": {},
   "outputs": [
    {
     "name": "stdout",
     "output_type": "stream",
     "text": [
      "role =  Accountant\n",
      "dept = Finance\n",
      "salary = 70,000\n",
      "role =  Engineer\n",
      "dept = IT\n",
      "salary = 75,000\n"
     ]
    }
   ],
   "source": [
    "# Define a Employee class with attributes role, department & salary. this class also has the showDetail method()\n",
    "\n",
    "class Employee:\n",
    "    def __init__ (self, role, dept, salary):\n",
    "        self.role = role\n",
    "        self.dept = dept\n",
    "        self.salary = salary\n",
    "    \n",
    "    def showDetails(self):\n",
    "        print(\"role = \", self.role)\n",
    "        print(\"dept =\", self.dept)\n",
    "        print(\"salary =\", self.salary)\n",
    "\n",
    "E1 = Employee(\"Accountant\", \"Finance\", \"70,000\")\n",
    "\n",
    "E1.showDetails()\n",
    "\n",
    "# Create and Engineer class that inherits propertis form Employee and has additional attributes : name & age.\n",
    "\n",
    "class Employee:\n",
    "    def __init__ (self, role, dept, salary):\n",
    "        self.role = role\n",
    "        self.dept = dept\n",
    "        self.salary = salary\n",
    "    \n",
    "    def showDetails(self):\n",
    "        print(\"role = \", self.role)\n",
    "        print(\"dept =\", self.dept)\n",
    "        print(\"salary =\", self.salary)\n",
    "\n",
    "\n",
    "class Engineer(Employee):\n",
    "    def __init__(self, name, age):\n",
    "        self.name = name \n",
    "        self.age = age\n",
    "        super(). __init__(\"Engineer\", \"IT\", \"75,000\")\n",
    "\n",
    "    \n",
    "\n",
    "E1 = Engineer(\"Elon Musk\", \"40\")\n",
    "\n",
    "E1.showDetails()\n"
   ]
  },
  {
   "cell_type": "code",
   "execution_count": 52,
   "metadata": {},
   "outputs": [
    {
     "name": "stdout",
     "output_type": "stream",
     "text": [
      "True\n"
     ]
    }
   ],
   "source": [
    "# Create a class called order which stores item & price. \n",
    "# Use Dunder function --gt--() to convey that:\n",
    "#    order1 > order2 if price of order 1> price of order2\n",
    "\n",
    "\n",
    "\n",
    "class Order: \n",
    "    def __init__(self, item, price):\n",
    "        self.item = item \n",
    "        self.price = price\n",
    "\n",
    "    def __gt__(self, odr2):\n",
    "        return self.price > odr2.price\n",
    "\n",
    "ord1 = Order(\"chips\", 20)\n",
    "ord2 = Order(\"tea\", 15)\n",
    "\n",
    "print(ord1 > ord2)\n"
   ]
  },
  {
   "cell_type": "markdown",
   "metadata": {},
   "source": [
    "# Real life Projects"
   ]
  },
  {
   "cell_type": "code",
   "execution_count": 58,
   "metadata": {},
   "outputs": [
    {
     "name": "stdout",
     "output_type": "stream",
     "text": [
      "<module 'random' from 'c:\\\\Users\\\\Zee\\\\anaconda3\\\\lib\\\\random.py'>\n",
      "Success : Correct Guess\n",
      "---------Game OVER----------\n"
     ]
    }
   ],
   "source": [
    "# Guess the Number:\n",
    "\n",
    "import random\n",
    "target = random.randint(1, 100)\n",
    "print(random)\n",
    "\n",
    "\n",
    "while True:\n",
    "    userChoice =int(input(\"Guess the target or Quit(Q) :\"))\n",
    "    if (userChoice == \"Q\"):\n",
    "        break\n",
    "    userChoice = int(userChoice)\n",
    "    if(userChoice == target):\n",
    "        print(\"Success : Correct Guess\")\n",
    "        break\n",
    "     \n",
    "    elif(userChoice < target):\n",
    "        print(\"Your number was too small Guess the larger one\")\n",
    "    else:\n",
    "        print(\"your number was too large, Guess the smaller one\")\n",
    "\n",
    "print(\"---------Game OVER----------\")\n"
   ]
  },
  {
   "cell_type": "code",
   "execution_count": 62,
   "metadata": {},
   "outputs": [
    {
     "name": "stdout",
     "output_type": "stream",
     "text": [
      "your random password is: J|Was/f}\"Zm2E7M\n"
     ]
    }
   ],
   "source": [
    "# Random password generator\n",
    "\n",
    "import random \n",
    "import string \n",
    "\n",
    "pass_len = 15\n",
    "charValues = string. ascii_letters + string.digits + string.punctuation\n",
    "\n",
    "# list comperhesion [function for i in range(n)]\n",
    "password = \"\".join([random.choice(charValues)for  i in range (pass_len)])\n",
    "\n",
    "print(\"your random password is:\", password)"
   ]
  },
  {
   "cell_type": "markdown",
   "metadata": {},
   "source": [
    "# Student Management System"
   ]
  },
  {
   "cell_type": "code",
   "execution_count": 72,
   "metadata": {},
   "outputs": [
    {
     "name": "stdout",
     "output_type": "stream",
     "text": [
      "ID: S320135, Name: Owais Khan, Age: 24, Average Grade: 80.0\n",
      "ID: S20120, Name: Zakir Ahmed Shah, Age: 24, Average Grade: 89.5\n"
     ]
    }
   ],
   "source": [
    "class Studnet: \n",
    "    def __init__(self, name, age, student_id):\n",
    "        self.name = name\n",
    "        self.age = age\n",
    "        self.student_id = student_id\n",
    "        self.grades =[]\n",
    "    \n",
    "    def add_grade(self, grade):\n",
    "        self.grades.append(grade)\n",
    "\n",
    "    def get_avgerage_grade(self):\n",
    "        if self.grades:\n",
    "            return sum(self.grades) / len(self.grades)\n",
    "        \n",
    "        return 0.0\n",
    "    \n",
    "class StudentManagementSystem:\n",
    "    def __init__(self):\n",
    "        self.students = []\n",
    "\n",
    "    def add_student(self, student):\n",
    "        self.students.append(student)\n",
    "\n",
    "    def remove_student(self, student_id):\n",
    "        self.students = [s for s in self.students if s.studnent_id != student_id]\n",
    "\n",
    "    def get_student(self, student_id):\n",
    "        for student in self.students:\n",
    "            if student.student_id == student_id:\n",
    "                return student\n",
    "        return None\n",
    "        \n",
    "\n",
    "    def print_all_students(self):\n",
    "        for student in self.students:\n",
    "            print(f\"ID: {student.student_id}, Name: {student.name}, Age: {student.age}, Average Grade: {student.get_average_grade()}\")\n",
    "\n",
    "\n",
    "# Example Usage\n",
    "\n",
    "sms = StudentManagementSystem()\n",
    "\n",
    "student1 = Student(\"Owais Khan\", 24, \"S320135\")\n",
    "student1.add_grade(70)\n",
    "student1.add_grade(90)\n",
    "\n",
    "student2 = Student(\"Zakir Ahmed Shah\", 24, \"S20120\")\n",
    "student2.add_grade(90)\n",
    "student2.add_grade(89)\n",
    "\n",
    "\n",
    "sms.add_student(student1)\n",
    "sms.add_student(student2)\n",
    "\n",
    "sms.print_all_students()\n",
    "        "
   ]
  },
  {
   "cell_type": "markdown",
   "metadata": {},
   "source": [
    "# Tic-Tac-Toe"
   ]
  },
  {
   "cell_type": "code",
   "execution_count": 76,
   "metadata": {},
   "outputs": [
    {
     "name": "stdout",
     "output_type": "stream",
     "text": [
      "  |   |  \n",
      "-----\n",
      "  |   |  \n",
      "-----\n",
      "  |   |  \n",
      "-----\n",
      "X |   |  \n",
      "-----\n",
      "  |   |  \n",
      "-----\n",
      "  |   |  \n",
      "-----\n",
      "X | O |  \n",
      "-----\n",
      "  |   |  \n",
      "-----\n",
      "  |   |  \n",
      "-----\n",
      "X | O | X\n",
      "-----\n",
      "  |   |  \n",
      "-----\n",
      "  |   |  \n",
      "-----\n",
      "X | O | X\n",
      "-----\n",
      "  | O |  \n",
      "-----\n",
      "  |   |  \n",
      "-----\n",
      "X | O | X\n",
      "-----\n",
      "X | O |  \n",
      "-----\n",
      "  |   |  \n",
      "-----\n",
      "X | O | X\n",
      "-----\n",
      "X | O | O\n",
      "-----\n",
      "  |   |  \n",
      "-----\n",
      "X | O | X\n",
      "-----\n",
      "X | O | O\n",
      "-----\n",
      "X |   |  \n",
      "-----\n",
      "Player X wins!\n"
     ]
    }
   ],
   "source": [
    "def print_borad(board):\n",
    "    for row in board: \n",
    "        print(\" | \".join(row))\n",
    "        print(\"-\" * 5)\n",
    "\n",
    "def check_winner(board, player):\n",
    "    #check rows, column, and diagonals\n",
    "\n",
    "    for i in range(3):\n",
    "        if all ([cell == player for cell in board[i]]) or all ([board[j][i] == player for j in range (3)]):\n",
    "            return True\n",
    "        \n",
    "        if  all ([board[i][i] == player for i in range(3)]) or all ([board[i][2 - i ] == player for i in range(3)]):\n",
    "            return False\n",
    "        \n",
    "def is_board_full(board):\n",
    "    return all ([cell != \" \" for row in board for cell in row])\n",
    "\n",
    "\n",
    "def tic_tac_toe():\n",
    "    board = [[\" \" for _ in range(3)] for _ in range(3)]\n",
    "    current_player = \"X\"\n",
    "\n",
    "    while True:\n",
    "        print_borad(board)\n",
    "        row = int(input(f\"Player{current_player}, enter row (0, 1, 2):  \"))\n",
    "        col = int(input(f\"Player {current_player}, enter column (0, 1, 2): \"))\n",
    "\n",
    "\n",
    "        if board[row][col] == \" \":\n",
    "            board[row][col] = current_player\n",
    "            if check_winner(board, current_player):\n",
    "                print_borad(board)\n",
    "                print(f\"Player {current_player} wins!\")\n",
    "                break\n",
    "            elif is_board_full(board):\n",
    "                print_board(board)\n",
    "                print(\"It's a tie!\")\n",
    "                break\n",
    "            current_player = \"O\" if current_player == \"X\" else \"X\"\n",
    "        else:\n",
    "            print(\"Cell alreay taken, try again.\")\n",
    "\n",
    "\n",
    "# Example Usage\n",
    "tic_tac_toe()\n",
    "\n",
    "\n",
    "\n"
   ]
  },
  {
   "cell_type": "markdown",
   "metadata": {},
   "source": [
    "# Bank Account Management"
   ]
  },
  {
   "cell_type": "code",
   "execution_count": 79,
   "metadata": {},
   "outputs": [
    {
     "name": "stdout",
     "output_type": "stream",
     "text": [
      "Deposited 1000. New balance: 1000.0\n",
      "Withdrew 500. New balance: 500.0\n",
      "Account balance: 500.0\n",
      "Username: alice123\n",
      "New Username: alice456\n"
     ]
    }
   ],
   "source": [
    "class BankAccount:\n",
    "    def __init__(self, account_number, account_holder, username, password, balance=0.0):\n",
    "        self.account_number = account_number\n",
    "        self.account_holder = account_holder\n",
    "        self.__username = username\n",
    "        self.__password = password\n",
    "        self.balance = balance\n",
    "\n",
    "    def deposit(self, amount):\n",
    "        self.balance += amount\n",
    "        print(f\"Deposited {amount}. New balance: {self.balance}\")\n",
    "\n",
    "    def withdraw(self, amount):\n",
    "        if amount > self.balance:\n",
    "            print(\"Insufficient funds\")\n",
    "        else:\n",
    "            self.balance -= amount\n",
    "            print(f\"Withdrew {amount}. New balance: {self.balance}\")\n",
    "\n",
    "    def get_balance(self):\n",
    "        return self.balance\n",
    "\n",
    "    def get_username(self):\n",
    "        return self.__username\n",
    "\n",
    "    def set_username(self, new_username):\n",
    "        self.__username = new_username\n",
    "\n",
    "    def get_password(self):\n",
    "        return self.__password\n",
    "\n",
    "    def set_password(self, new_password):\n",
    "        self.__password = new_password\n",
    "\n",
    "# Example Usage\n",
    "account1 = BankAccount(\"123456789\", \"Alice\", \"alice123\", \"securepassword\")\n",
    "account1.deposit(1000)\n",
    "account1.withdraw(500)\n",
    "print(f\"Account balance: {account1.get_balance()}\")\n",
    "print(f\"Username: {account1.get_username()}\")\n",
    "\n",
    "# Changing username and password\n",
    "account1.set_username(\"alice456\")\n",
    "account1.set_password(\"newsecurepassword\")\n",
    "print(f\"New Username: {account1.get_username()}\")\n"
   ]
  },
  {
   "cell_type": "markdown",
   "metadata": {},
   "source": [
    "# Simple Web Scraper"
   ]
  },
  {
   "cell_type": "code",
   "execution_count": 100,
   "metadata": {},
   "outputs": [
    {
     "name": "stdout",
     "output_type": "stream",
     "text": [
      "Successfully fetched the website: https://edition.cnn.com/\n",
      "1. Whelan and Gershkovich are en route to US after historic prisoner swap\n",
      "2. More Top Stories\n",
      "3. Paris Olympics\n",
      "4. Featured Sections\n",
      "5. CNN Business\n",
      "6. CNN Travel\n",
      "7. SPORT\n",
      "8. Style\n",
      "9. Opinion\n",
      "10. US Politics\n",
      "11. Science and health\n",
      "12. Tech\n",
      "13. Photos You Should See\n",
      "14. In Case You Missed It\n"
     ]
    }
   ],
   "source": [
    "import requests\n",
    "from bs4 import BeautifulSoup\n",
    "\n",
    "def scrape_website(url):\n",
    "    try:\n",
    "        response = requests.get(url)\n",
    "        response.raise_for_status()  # This will raise an HTTPError if the HTTP request returned an unsuccessful status code\n",
    "        print(f\"Successfully fetched the website: {url}\")\n",
    "        soup = BeautifulSoup(response.content, 'html.parser')\n",
    "        headlines = soup.find_all('h2')\n",
    "        if headlines:\n",
    "            for idx, headline in enumerate(headlines):\n",
    "                print(f\"{idx + 1}. {headline.text.strip()}\")\n",
    "        else:\n",
    "            print(\"No <h2> tags found on the webpage.\")\n",
    "    except requests.exceptions.HTTPError as http_err:\n",
    "        print(f\"HTTP error occurred: {http_err}\")\n",
    "    except Exception as err:\n",
    "        print(f\"An error occurred: {err}\")\n",
    "\n",
    "# Example Usage\n",
    "url = \"https://edition.cnn.com/\"\n",
    "scrape_website(url)\n"
   ]
  },
  {
   "cell_type": "code",
   "execution_count": null,
   "metadata": {},
   "outputs": [],
   "source": []
  }
 ],
 "metadata": {
  "kernelspec": {
   "display_name": "Python 3",
   "language": "python",
   "name": "python3"
  },
  "language_info": {
   "codemirror_mode": {
    "name": "ipython",
    "version": 3
   },
   "file_extension": ".py",
   "mimetype": "text/x-python",
   "name": "python",
   "nbconvert_exporter": "python",
   "pygments_lexer": "ipython3",
   "version": "3.8.8"
  }
 },
 "nbformat": 4,
 "nbformat_minor": 2
}
